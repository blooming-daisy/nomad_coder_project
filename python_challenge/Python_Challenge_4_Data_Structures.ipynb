{
  "nbformat": 4,
  "nbformat_minor": 0,
  "metadata": {
    "colab": {
      "provenance": [],
      "authorship_tag": "ABX9TyN44WsRYuhr5ZSsicOIffW6",
      "include_colab_link": true
    },
    "kernelspec": {
      "name": "python3",
      "display_name": "Python 3"
    },
    "language_info": {
      "name": "python"
    }
  },
  "cells": [
    {
      "cell_type": "markdown",
      "metadata": {
        "id": "view-in-github",
        "colab_type": "text"
      },
      "source": [
        "<a href=\"https://colab.research.google.com/github/blooming-daisy/nomad_coder_project/blob/master/python_challenge/Python_Challenge_4_Data_Structures.ipynb\" target=\"_parent\"><img src=\"https://colab.research.google.com/assets/colab-badge.svg\" alt=\"Open In Colab\"/></a>"
      ]
    },
    {
      "cell_type": "markdown",
      "source": [
        "## 4.0 Methods\n",
        "- 데이터 뒤에 결합/연결된 function\n",
        "- 데이터와 엮여서 작동하기 때문에, 단독 호출은 할 수 없음"
      ],
      "metadata": {
        "id": "aZjJHfouztVD"
      }
    },
    {
      "cell_type": "code",
      "source": [
        "name = \"lEeNa\"\n",
        "\n",
        "print(name.upper())\n",
        "print(name.lower())\n",
        "print(name.capitalize())\n",
        "print(name.startswith('n'))\n",
        "print(name.replace('a','o'))\n",
        "print(name.endswith('a'))\n",
        "print(name.isupper())"
      ],
      "metadata": {
        "colab": {
          "base_uri": "https://localhost:8080/"
        },
        "id": "FJLT1hLfxqCf",
        "outputId": "40a5e30f-2b1f-41c1-da0f-bc23b2ce03a2"
      },
      "execution_count": null,
      "outputs": [
        {
          "output_type": "stream",
          "name": "stdout",
          "text": [
            "LEENA\n",
            "leena\n",
            "Leena\n",
            "False\n",
            "lEeNo\n",
            "True\n",
            "False\n"
          ]
        }
      ]
    },
    {
      "cell_type": "markdown",
      "source": [
        "## 4.1 Lists"
      ],
      "metadata": {
        "id": "q-MUhXil15ud"
      }
    },
    {
      "cell_type": "code",
      "source": [
        "days_of_week = ['Mon','Tue','Wed','Thur','Fri','Sat','Sun']\n",
        "\n",
        "print(days_of_week.count(\"Wed\"))\n",
        "print(days_of_week.clear()) # 리스트 안에 있는 아이템을 mutating함\n",
        "print(days_of_week)\n",
        "\n",
        "days_of_another_week = ['Mon','Tue','Wed','Thur','Fri']\n",
        "days_of_another_week.reverse() # 이 메서드는 리스트를 그 자리(in-place)에서 뒤집고 아무것도 반환하지 않기 때문에, print() 처리를 하면 None이 return 되는 것!\n",
        "print(days_of_another_week)\n",
        "\n",
        "days_of_another_week.append(['Sat', 'Sun'])\n",
        "print(days_of_another_week)\n",
        "\n",
        "days_of_another_week.extend(['Sat', 'Sun']) #리스트 안에 있는 리스트를 밖으로 꺼내는 메소드\n",
        "print(days_of_another_week)\n",
        "\n",
        "days_of_another_week.remove(['Sat','Sun'])\n",
        "print(days_of_another_week)"
      ],
      "metadata": {
        "colab": {
          "base_uri": "https://localhost:8080/"
        },
        "id": "bkQ_aO6l0Tl9",
        "outputId": "02ce9294-22f4-4d8c-8f10-a3e7def17a1e"
      },
      "execution_count": 16,
      "outputs": [
        {
          "output_type": "stream",
          "name": "stdout",
          "text": [
            "1\n",
            "None\n",
            "[]\n",
            "['Fri', 'Thur', 'Wed', 'Tue', 'Mon']\n",
            "['Fri', 'Thur', 'Wed', 'Tue', 'Mon', ['Sat', 'Sun']]\n",
            "['Fri', 'Thur', 'Wed', 'Tue', 'Mon', ['Sat', 'Sun'], 'Sat', 'Sun']\n",
            "['Fri', 'Thur', 'Wed', 'Tue', 'Mon', 'Sat', 'Sun']\n"
          ]
        }
      ]
    },
    {
      "cell_type": "code",
      "source": [
        "name = [\"Leena\", \"Jason\", \"Tommy\", \"Lisa\"]\n",
        "name[0]"
      ],
      "metadata": {
        "colab": {
          "base_uri": "https://localhost:8080/",
          "height": 36
        },
        "id": "UYKL0BVf6Y6n",
        "outputId": "1b444f4d-a82d-41fc-9780-a170c9b47b7c"
      },
      "execution_count": 20,
      "outputs": [
        {
          "output_type": "execute_result",
          "data": {
            "text/plain": [
              "'Leena'"
            ],
            "application/vnd.google.colaboratory.intrinsic+json": {
              "type": "string"
            }
          },
          "metadata": {},
          "execution_count": 20
        }
      ]
    }
  ]
}