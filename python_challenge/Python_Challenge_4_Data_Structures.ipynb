{
  "nbformat": 4,
  "nbformat_minor": 0,
  "metadata": {
    "colab": {
      "provenance": [],
      "authorship_tag": "ABX9TyPoJjtJ9fjBIU1hHJvFRKWh",
      "include_colab_link": true
    },
    "kernelspec": {
      "name": "python3",
      "display_name": "Python 3"
    },
    "language_info": {
      "name": "python"
    }
  },
  "cells": [
    {
      "cell_type": "markdown",
      "metadata": {
        "id": "view-in-github",
        "colab_type": "text"
      },
      "source": [
        "<a href=\"https://colab.research.google.com/github/blooming-daisy/nomad_coder_project/blob/master/python_challenge/Python_Challenge_4_Data_Structures.ipynb\" target=\"_parent\"><img src=\"https://colab.research.google.com/assets/colab-badge.svg\" alt=\"Open In Colab\"/></a>"
      ]
    },
    {
      "cell_type": "markdown",
      "source": [
        "## 4.0 Methods\n",
        "- 데이터 뒤에 결합/연결된 function\n",
        "- 데이터와 엮여서 작동하기 때문에, 단독 호출은 할 수 없음"
      ],
      "metadata": {
        "id": "aZjJHfouztVD"
      }
    },
    {
      "cell_type": "code",
      "source": [
        "name = \"lEeNa\"\n",
        "\n",
        "print(name.upper())\n",
        "print(name.lower())\n",
        "print(name.capitalize())\n",
        "print(name.startswith('n'))\n",
        "print(name.replace('a','o'))\n",
        "print(name.endswith('a'))\n",
        "print(name.isupper())"
      ],
      "metadata": {
        "colab": {
          "base_uri": "https://localhost:8080/"
        },
        "id": "FJLT1hLfxqCf",
        "outputId": "40a5e30f-2b1f-41c1-da0f-bc23b2ce03a2"
      },
      "execution_count": null,
      "outputs": [
        {
          "output_type": "stream",
          "name": "stdout",
          "text": [
            "LEENA\n",
            "leena\n",
            "Leena\n",
            "False\n",
            "lEeNo\n",
            "True\n",
            "False\n"
          ]
        }
      ]
    },
    {
      "cell_type": "markdown",
      "source": [
        "## 4.1 Lists"
      ],
      "metadata": {
        "id": "q-MUhXil15ud"
      }
    },
    {
      "cell_type": "code",
      "source": [
        "days_of_week = ['Mon','Tue','Wed','Thur','Fri','Sat','Sun']\n",
        "\n",
        "print(days_of_week.count(\"Wed\"))\n",
        "print(days_of_week.clear()) # 리스트 안에 있는 아이템을 mutating함\n",
        "print(days_of_week)\n",
        "\n",
        "days_of_another_week = ['Mon','Tue','Wed','Thur','Fri']\n",
        "days_of_another_week.reverse() # 이 메서드는 리스트를 그 자리(in-place)에서 뒤집고 아무것도 반환하지 않기 때문에, print() 처리를 하면 None이 return 되는 것!\n",
        "print(days_of_another_week)\n",
        "\n",
        "days_of_another_week.append(['Sat', 'Sun'])\n",
        "print(days_of_another_week)\n",
        "\n",
        "days_of_another_week.extend(['Sat', 'Sun']) #리스트 안에 있는 리스트를 밖으로 꺼내는 메소드\n",
        "print(days_of_another_week)\n",
        "\n",
        "days_of_another_week.remove(['Sat','Sun'])\n",
        "print(days_of_another_week)"
      ],
      "metadata": {
        "colab": {
          "base_uri": "https://localhost:8080/"
        },
        "id": "bkQ_aO6l0Tl9",
        "outputId": "02ce9294-22f4-4d8c-8f10-a3e7def17a1e"
      },
      "execution_count": null,
      "outputs": [
        {
          "output_type": "stream",
          "name": "stdout",
          "text": [
            "1\n",
            "None\n",
            "[]\n",
            "['Fri', 'Thur', 'Wed', 'Tue', 'Mon']\n",
            "['Fri', 'Thur', 'Wed', 'Tue', 'Mon', ['Sat', 'Sun']]\n",
            "['Fri', 'Thur', 'Wed', 'Tue', 'Mon', ['Sat', 'Sun'], 'Sat', 'Sun']\n",
            "['Fri', 'Thur', 'Wed', 'Tue', 'Mon', 'Sat', 'Sun']\n"
          ]
        }
      ]
    },
    {
      "cell_type": "code",
      "source": [
        "name = [\"Leena\", \"Jason\", \"Tommy\", \"Lisa\"]\n",
        "name[0]"
      ],
      "metadata": {
        "colab": {
          "base_uri": "https://localhost:8080/",
          "height": 36
        },
        "id": "UYKL0BVf6Y6n",
        "outputId": "1b444f4d-a82d-41fc-9780-a170c9b47b7c"
      },
      "execution_count": null,
      "outputs": [
        {
          "output_type": "execute_result",
          "data": {
            "text/plain": [
              "'Leena'"
            ],
            "application/vnd.google.colaboratory.intrinsic+json": {
              "type": "string"
            }
          },
          "metadata": {},
          "execution_count": 20
        }
      ]
    },
    {
      "cell_type": "markdown",
      "source": [
        "## 4.2 Tuples\n",
        "- 수정해도 되는 항목들 ▶️ Lists\n",
        "- 수정하면 안되는 항목들 ▶️ Tuples"
      ],
      "metadata": {
        "id": "gynsNt_F6Pr9"
      }
    },
    {
      "cell_type": "code",
      "source": [
        "days_of_week = ('Mon','Tue','Wed','Thur','Fri','Sat','Sun')\n",
        "days.append('Mon') # Can't change the content after you create."
      ],
      "metadata": {
        "colab": {
          "base_uri": "https://localhost:8080/",
          "height": 162
        },
        "id": "wPewAEJL6RSX",
        "outputId": "bd19e584-c6d5-48b9-b8bd-9fed348e0d67"
      },
      "execution_count": 1,
      "outputs": [
        {
          "output_type": "error",
          "ename": "NameError",
          "evalue": "name 'days' is not defined",
          "traceback": [
            "\u001b[0;31m---------------------------------------------------------------------------\u001b[0m",
            "\u001b[0;31mNameError\u001b[0m                                 Traceback (most recent call last)",
            "\u001b[0;32m/tmp/ipython-input-2093066574.py\u001b[0m in \u001b[0;36m<cell line: 0>\u001b[0;34m()\u001b[0m\n\u001b[1;32m      1\u001b[0m \u001b[0mdays_of_week\u001b[0m \u001b[0;34m=\u001b[0m \u001b[0;34m(\u001b[0m\u001b[0;34m'Mon'\u001b[0m\u001b[0;34m,\u001b[0m\u001b[0;34m'Tue'\u001b[0m\u001b[0;34m,\u001b[0m\u001b[0;34m'Wed'\u001b[0m\u001b[0;34m,\u001b[0m\u001b[0;34m'Thur'\u001b[0m\u001b[0;34m,\u001b[0m\u001b[0;34m'Fri'\u001b[0m\u001b[0;34m,\u001b[0m\u001b[0;34m'Sat'\u001b[0m\u001b[0;34m,\u001b[0m\u001b[0;34m'Sun'\u001b[0m\u001b[0;34m)\u001b[0m\u001b[0;34m\u001b[0m\u001b[0;34m\u001b[0m\u001b[0m\n\u001b[0;32m----> 2\u001b[0;31m \u001b[0mdays\u001b[0m\u001b[0;34m.\u001b[0m\u001b[0mappend\u001b[0m\u001b[0;34m(\u001b[0m\u001b[0;34m'Mon'\u001b[0m\u001b[0;34m)\u001b[0m\u001b[0;34m\u001b[0m\u001b[0;34m\u001b[0m\u001b[0m\n\u001b[0m",
            "\u001b[0;31mNameError\u001b[0m: name 'days' is not defined"
          ]
        }
      ]
    },
    {
      "cell_type": "code",
      "source": [
        "print(days_of_week.count('Mon'))\n",
        "print(days_of_week[5])\n",
        "print(days_of_week[-1])"
      ],
      "metadata": {
        "colab": {
          "base_uri": "https://localhost:8080/"
        },
        "id": "bJJKoiVS6eGi",
        "outputId": "30d8d6ce-0ea6-488d-c371-5a96bba186de"
      },
      "execution_count": 5,
      "outputs": [
        {
          "output_type": "stream",
          "name": "stdout",
          "text": [
            "1\n",
            "Sat\n",
            "Sun\n"
          ]
        }
      ]
    },
    {
      "cell_type": "markdown",
      "source": [
        "## 4.3 Dicts"
      ],
      "metadata": {
        "id": "JKMw3BIu7Pgu"
      }
    },
    {
      "cell_type": "code",
      "source": [
        "player = {\"name\": \"Nico\",\n",
        "          \"age\": 18,\n",
        "          \"alive\": True,\n",
        "          \"fav_food\": [\"🍔\", \"🍕\"]\n",
        "          }\n",
        "\n",
        "print(player)\n",
        "print(\"Name: \", player[\"name\"])\n",
        "print(\"Age: \", player[\"age\"])\n",
        "print(\"Alive or not: \", player[\"alive\"])\n",
        "print(\"Favoriate food\", player.get(\"fav_food\"))"
      ],
      "metadata": {
        "colab": {
          "base_uri": "https://localhost:8080/"
        },
        "id": "U5R89Hyc6oWF",
        "outputId": "a3dbdf7b-29ca-4162-b9fa-06b6d698db38"
      },
      "execution_count": 14,
      "outputs": [
        {
          "output_type": "stream",
          "name": "stdout",
          "text": [
            "{'name': 'Nico', 'age': 18, 'alive': True, 'fav_food': ['🍔', '🍕']}\n",
            "Name:  Nico\n",
            "Age:  18\n",
            "Alive or not:  True\n",
            "Favoriate food ['🍔', '🍕']\n"
          ]
        }
      ]
    },
    {
      "cell_type": "code",
      "source": [
        "print(player.get(\"age\"), player['age'])"
      ],
      "metadata": {
        "colab": {
          "base_uri": "https://localhost:8080/"
        },
        "id": "eMNW5dOy7peD",
        "outputId": "8aaf2d65-4e14-43ed-bfb2-ef19dcf9e45d"
      },
      "execution_count": 13,
      "outputs": [
        {
          "output_type": "stream",
          "name": "stdout",
          "text": [
            "18 18\n"
          ]
        }
      ]
    },
    {
      "cell_type": "code",
      "source": [
        "print(player)\n",
        "player.pop(\"age\")\n",
        "print(player)"
      ],
      "metadata": {
        "colab": {
          "base_uri": "https://localhost:8080/"
        },
        "id": "FIuVhaxy79Rm",
        "outputId": "d8faf33b-cba9-4084-c0d7-9a83218aead8"
      },
      "execution_count": 15,
      "outputs": [
        {
          "output_type": "stream",
          "name": "stdout",
          "text": [
            "{'name': 'Nico', 'age': 18, 'alive': True, 'fav_food': ['🍔', '🍕']}\n",
            "{'name': 'Nico', 'alive': True, 'fav_food': ['🍔', '🍕']}\n"
          ]
        }
      ]
    },
    {
      "cell_type": "code",
      "source": [
        "print(player)\n",
        "player['experience'] = None #\n",
        "print(player)"
      ],
      "metadata": {
        "colab": {
          "base_uri": "https://localhost:8080/"
        },
        "id": "eeiZiFOy8eny",
        "outputId": "5b7eb0f1-ae31-46c6-d446-ed4d550785cd"
      },
      "execution_count": 16,
      "outputs": [
        {
          "output_type": "stream",
          "name": "stdout",
          "text": [
            "{'name': 'Nico', 'alive': True, 'fav_food': ['🍔', '🍕']}\n",
            "{'name': 'Nico', 'alive': True, 'fav_food': ['🍔', '🍕'], 'experience': None}\n"
          ]
        }
      ]
    },
    {
      "cell_type": "code",
      "source": [
        "print(player)\n",
        "player['fav_food'].append(\"🍗\") # Dict 안에 있는 list에 append를 하려면, key를 불러서 그 안에 .append를 해주면 된다!\n",
        "print(player.get('fav_food'))"
      ],
      "metadata": {
        "colab": {
          "base_uri": "https://localhost:8080/"
        },
        "id": "qqCgq0xS8mcN",
        "outputId": "ea5dd17a-0b70-4dc9-d155-3d742f6d18ff"
      },
      "execution_count": 18,
      "outputs": [
        {
          "output_type": "stream",
          "name": "stdout",
          "text": [
            "{'name': 'Nico', 'alive': True, 'fav_food': ['🍔', '🍕', '🍗'], 'experience': None}\n",
            "['🍔', '🍕', '🍗', '🍗']\n"
          ]
        }
      ]
    },
    {
      "cell_type": "code",
      "source": [],
      "metadata": {
        "id": "lYVQ5MDt8yqf"
      },
      "execution_count": null,
      "outputs": []
    }
  ]
}